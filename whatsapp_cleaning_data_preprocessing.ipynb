{
 "cells": [
  {
   "cell_type": "code",
   "execution_count": 39,
   "id": "91d5351c-8c38-4119-8a77-c7fe30ff3255",
   "metadata": {},
   "outputs": [],
   "source": [
    "import re\n",
    "import pandas as pd\n",
    "\n",
    "def read_whatsapp_chat(file_path:str):\n",
    "    encryption_message = \"Messages and calls are end-to-end encrypted. No one outside of this chat, not even WhatsApp, can read or listen to them. Tap to learn more.\"\n",
    "    media_pattern = \"<Media omitted>\"\n",
    "    email_pattern = r'[A-Za-z0-9._%+-]+@[A-Za-z0-9.-]+\\.[A-Z|a-z]{2,}'\n",
    "    url_pattern = r'http[s]?://(?:[a-zA-Z]|[0-9]|[$-_@.&+]|[!*\\(\\),]|(?:%[0-9a-fA-F][0-9a-fA-F]))+'\n",
    "    edited_message = \"<This message was edited>\"\n",
    "    deleted_message = \"You deleted this message\"\n",
    "    null_message = \"null\"\n",
    "    created_group_message = \"created group\"\n",
    "    added_you_to_group_message = \"added you\"\n",
    "    tagging_pattern = r'@[\\w]+'\n",
    "\n",
    "    with open(file_path, 'r', encoding = 'utf-8' ) as f:\n",
    "        lines = f.readlines()\n",
    "\n",
    "    # Apply filters to remove unwanted lines\n",
    "    filtered_lines = []\n",
    "    for line in lines:\n",
    "        if (\n",
    "            encryption_message not in line and\n",
    "            deleted_message not in line and\n",
    "            null_message != line.split(\" \")[-1] and\n",
    "            media_pattern not in line and\n",
    "            created_group_message not in line and\n",
    "            added_you_to_group_message not in line and\n",
    "            not re.search(email_pattern, line) and\n",
    "            not re.search(url_pattern, line)\n",
    "        ):\n",
    "            line = line.replace(edited_message, \"\").strip()\n",
    "            line = re.sub(tagging_pattern, \"\", line).strip()\n",
    "            filtered_lines.append(line)\n",
    "\n",
    "    # Normalize content:\n",
    "    content = '\\n'.join(filtered_lines)\n",
    "    # Replace narrow no-break space (iOS specific)\n",
    "    content = content.replace('\\u202f', ' ')\n",
    "    # Remove square brackets if they surround the timestamp (only for iOS)\n",
    "    content = re.sub(\n",
    "        r'\\[(\\d{1,2}/\\d{1,2}/\\d{2,4}, \\d{1,2}:\\d{2}(?::\\d{2})?\\s?[APap][Mm])\\]',\n",
    "        r'\\1',\n",
    "        content\n",
    "    )\n",
    "    # Remove LRM and RLM characters (Left-to-Right Mark and Right-to-Left Mark)\n",
    "    content = content.replace('\\u200E', '').replace('\\u200F', '')\n",
    "\n",
    "    # Updated regex pattern to match both iOS and Android WhatsApp exports.\n",
    "    pattern = r'(\\d{1,2}/\\d{1,2}/\\d{2,4}, \\d{1,2}:\\d{2}(?::\\d{2})?(?:\\s?[APap][Mm])?)\\s?(?:-|\\~)?\\s?(.*?): (.*?)(?=\\n\\d{1,2}/\\d{1,2}/\\d{2,4}, \\d{1,2}:\\d{2}|$)'\n",
    "    messages = re.findall(pattern, content, re.DOTALL)\n",
    "\n",
    "    df = pd.DataFrame(messages,columns=['timestamp','sender','message'])\n",
    "    timestamps = []\n",
    "    for timestamp in df['timestamp']:\n",
    "        try:\n",
    "            timestamp = pd.to_datetime(\n",
    "                timestamp, format='mixed', errors='coerce')\n",
    "        except Exception as e:\n",
    "            print(f\"Error parsing timestamp '{timestamp}': {e}\")\n",
    "            timestamp = pd.NaT\n",
    "        timestamps.append(timestamp)\n",
    "\n",
    "    df['timestamp'] = timestamps\n",
    "    return df"
   ]
  },
  {
   "cell_type": "code",
   "execution_count": 41,
   "id": "eef53ff5-b497-4949-bfc5-8d71ba461637",
   "metadata": {},
   "outputs": [
    {
     "name": "stdout",
     "output_type": "stream",
     "text": [
      "data/DummyData.txt\n",
      "               timestamp                                             sender  \\\n",
      "0    2023-01-11 00:14:00  Messages and calls are end-to-end encrypted. O...   \n",
      "1    2023-03-03 16:00:00                                       sumit mandal   \n",
      "2    2023-03-07 17:53:00                                      Aniket Parkar   \n",
      "3    2023-03-11 11:10:00                                       sumit mandal   \n",
      "4    2023-03-11 11:13:00                                      Aniket Parkar   \n",
      "...                  ...                                                ...   \n",
      "3220 2025-05-30 22:44:00                            sagar Bhangale Tata AIG   \n",
      "3221 2025-05-30 22:45:00                                       sumit mandal   \n",
      "3222 2025-05-30 22:45:00                            sagar Bhangale Tata AIG   \n",
      "3223 2025-06-01 19:13:00                            sagar Bhangale Tata AIG   \n",
      "3224 2025-06-01 19:15:00                                       sumit mandal   \n",
      "\n",
      "                                                message  \n",
      "0     You turned off disappearing messages. Tap to c...  \n",
      "1     Then when I was running my vehicle at high spe...  \n",
      "2                                       Looks promising  \n",
      "3     Where does data science team seat in Tata-AIG....  \n",
      "4                                          Data Science  \n",
      "...                                                 ...  \n",
      "3220                        I'm on the way back to Pune  \n",
      "3221                                  Amazing. Had fun?  \n",
      "3222                                                Yes  \n",
      "3223  Hi Sumit, Ask HR is the site where you can rai...  \n",
      "3224                      Accha. Uska kuch url hai kya?  \n",
      "\n",
      "[3225 rows x 3 columns]\n"
     ]
    }
   ],
   "source": [
    "from pathlib import Path\n",
    "\n",
    "all_chats = {}\n",
    "data_directory = Path(\"./data/\")\n",
    "\n",
    "for file in data_directory.glob('*.txt'):\n",
    "    print(file)\n",
    "    file_name = file.stem\n",
    "    all_chats[file_name] = read_whatsapp_chat(file)\n",
    "    print(all_chats[file_name])"
   ]
  },
  {
   "cell_type": "code",
   "execution_count": 37,
   "id": "45e68313-c94c-4cc1-94cd-84858bb242a5",
   "metadata": {},
   "outputs": [
    {
     "data": {
      "text/plain": [
       "133612"
      ]
     },
     "execution_count": 37,
     "metadata": {},
     "output_type": "execute_result"
    }
   ],
   "source": [
    "text_sequence = \"\"\n",
    "for file_name in all_chats.keys():\n",
    "    text_sequence += \" \".join(all_chats[file_name]['message'].values)\n",
    "\n",
    "len(text_sequence)"
   ]
  },
  {
   "cell_type": "code",
   "execution_count": 38,
   "id": "db27135e-ba8f-4f7e-91a2-340b0110bc8f",
   "metadata": {},
   "outputs": [],
   "source": [
    "with open(\"./output/combined_text.txt\", \"w\", encoding=\"utf-8\") as f:\n",
    "    f.write(text_sequence)"
   ]
  },
  {
   "cell_type": "code",
   "execution_count": 45,
   "id": "f4becb7e-9c29-4e92-a2f0-5962acf1c9ce",
   "metadata": {},
   "outputs": [],
   "source": []
  },
  {
   "cell_type": "code",
   "execution_count": 47,
   "id": "531b5001-f0a9-42ef-9b59-d0b82ebf8f1c",
   "metadata": {},
   "outputs": [
    {
     "name": "stdout",
     "output_type": "stream",
     "text": [
      "Initialized empty Git repository in /Users/smandal14/work_aig/aig/Kendra-Bot/whatsapp_own_bot_training/.git/\n"
     ]
    }
   ],
   "source": [
    "!git init"
   ]
  },
  {
   "cell_type": "code",
   "execution_count": 52,
   "id": "b571aa68-eb37-45a9-bccc-7c42b5d301b6",
   "metadata": {},
   "outputs": [],
   "source": [
    "!git add ."
   ]
  },
  {
   "cell_type": "code",
   "execution_count": 53,
   "id": "f59932a1-bb66-4c72-8c4e-22843f0386d6",
   "metadata": {},
   "outputs": [
    {
     "name": "stdout",
     "output_type": "stream",
     "text": [
      "[main 1cddd2a] Data preprocessing\n",
      " Committer: Mandal <smandal14@TAGLDP23483.local>\n",
      "Your name and email address were configured automatically based\n",
      "on your username and hostname. Please check that they are accurate.\n",
      "You can suppress this message by setting them explicitly:\n",
      "\n",
      "    git config --global user.name \"Your Name\"\n",
      "    git config --global user.email you@example.com\n",
      "\n",
      "After doing this, you may fix the identity used for this commit with:\n",
      "\n",
      "    git commit --amend --reset-author\n",
      "\n",
      " 2 files changed, 32 insertions(+), 573 deletions(-)\n",
      " delete mode 100644 combined_text.txt\n"
     ]
    }
   ],
   "source": [
    "!git commit -m \"Data preprocessing\""
   ]
  },
  {
   "cell_type": "code",
   "execution_count": 54,
   "id": "6801fcce-88fd-4327-a976-f1879669d003",
   "metadata": {},
   "outputs": [],
   "source": [
    "!git branch -M main"
   ]
  },
  {
   "cell_type": "code",
   "execution_count": 58,
   "id": "bbc5d6e9-3b12-4c25-963e-0df596c6632f",
   "metadata": {},
   "outputs": [
    {
     "name": "stdout",
     "output_type": "stream",
     "text": [
      "error: remote origin already exists.\n"
     ]
    }
   ],
   "source": [
    "!git remote add origin git@github.com-personal:sumit-mandal/llm-training-from-scratch.git"
   ]
  },
  {
   "cell_type": "code",
   "execution_count": 56,
   "id": "3a05c38b-84dd-4a8f-bd8e-02b067210603",
   "metadata": {},
   "outputs": [
    {
     "name": "stdout",
     "output_type": "stream",
     "text": [
      "git@github.com: Permission denied (publickey).\n",
      "fatal: Could not read from remote repository.\n",
      "\n",
      "Please make sure you have the correct access rights\n",
      "and the repository exists.\n"
     ]
    }
   ],
   "source": [
    "!git push -u origin main\n"
   ]
  },
  {
   "cell_type": "code",
   "execution_count": 57,
   "id": "198ae694-4741-4313-8cd6-eb90739292c3",
   "metadata": {},
   "outputs": [
    {
     "name": "stdout",
     "output_type": "stream",
     "text": [
      "total 112\n",
      "drwx------  15 smandal14  1452157595   480 Nov  7  2024 \u001b[34m.\u001b[m\u001b[m/\n",
      "drwxr-x---+ 76 smandal14  1452157595  2432 May 13 14:19 \u001b[34m..\u001b[m\u001b[m/\n",
      "-rw-r--r--@  1 smandal14  1452157595  6148 Apr 29  2024 .DS_Store\n",
      "-rw-------@  1 smandal14  1452157595  2622 Jan 19  2023 aig_id_rsa\n",
      "-rw-r--r--@  1 smandal14  1452157595   581 Jan 19  2023 aig_id_rsa.pub\n",
      "-rw-r--r--@  1 smandal14  1452157595   521 Nov  2  2024 config\n",
      "-r--------   1 smandal14  1452157595  2610 Oct 31  2024 google_compute_engine\n",
      "-rw-r--r--@  1 smandal14  1452157595   581 Oct 31  2024 google_compute_engine.pub\n",
      "-rw-r--r--   1 smandal14  1452157595   327 Jan  4 00:15 google_compute_known_hosts\n",
      "-rw-------@  1 smandal14  1452157595  2622 Jan 19  2023 id_rsa\n",
      "-rw-r--r--@  1 smandal14  1452157595   581 Jan 19  2023 id_rsa.pub\n",
      "-rw-------@  1 smandal14  1452157595   419 Apr 29  2024 id_rsa_personal\n",
      "-rw-r--r--@  1 smandal14  1452157595   109 Apr 29  2024 id_rsa_personal.pub\n",
      "-rw-------   1 smandal14  1452157595  2038 Nov  1  2024 known_hosts\n",
      "-rw-------   1 smandal14  1452157595  1197 Oct 31  2024 known_hosts.old\n"
     ]
    }
   ],
   "source": [
    "ls -al ~/.ssh\n"
   ]
  },
  {
   "cell_type": "code",
   "execution_count": null,
   "id": "489ce610-edaa-47de-9018-f8fd9f6171bb",
   "metadata": {},
   "outputs": [],
   "source": []
  }
 ],
 "metadata": {
  "kernelspec": {
   "display_name": "Python 3 (ipykernel)",
   "language": "python",
   "name": "python3"
  },
  "language_info": {
   "codemirror_mode": {
    "name": "ipython",
    "version": 3
   },
   "file_extension": ".py",
   "mimetype": "text/x-python",
   "name": "python",
   "nbconvert_exporter": "python",
   "pygments_lexer": "ipython3",
   "version": "3.11.9"
  }
 },
 "nbformat": 4,
 "nbformat_minor": 5
}
